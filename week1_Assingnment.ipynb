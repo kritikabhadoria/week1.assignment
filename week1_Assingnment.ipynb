{
 "cells": [
  {
   "cell_type": "code",
   "execution_count": 2,
   "id": "c65de5ef-900c-49f0-9ea8-c69bd367b19f",
   "metadata": {},
   "outputs": [],
   "source": [
    "# Question 1\n",
    "# one variable containing string, list, float, tuple type of data\n",
    "a=[\"kritika\",[1,2,3,4,5],3.14,(10,20,30,40,50)]"
   ]
  },
  {
   "cell_type": "code",
   "execution_count": 3,
   "id": "5cc38c0b-ea2f-4cc8-ab5b-65e99bcc30b8",
   "metadata": {},
   "outputs": [
    {
     "data": {
      "text/plain": [
       "['kritika', [1, 2, 3, 4, 5], 3.14, (10, 20, 30, 40, 50)]"
      ]
     },
     "execution_count": 3,
     "metadata": {},
     "output_type": "execute_result"
    }
   ],
   "source": [
    "a"
   ]
  },
  {
   "cell_type": "code",
   "execution_count": 4,
   "id": "2ad08b45-9a74-495c-9208-47d49c097112",
   "metadata": {},
   "outputs": [],
   "source": [
    "# ques 2 \n",
    "#(i)var 1 =' '\n",
    "var1=''"
   ]
  },
  {
   "cell_type": "code",
   "execution_count": 5,
   "id": "59abcbbd-67a1-42f9-bc8a-dbcada13694e",
   "metadata": {},
   "outputs": [
    {
     "data": {
      "text/plain": [
       "str"
      ]
     },
     "execution_count": 5,
     "metadata": {},
     "output_type": "execute_result"
    }
   ],
   "source": [
    "type(var1)"
   ]
  },
  {
   "cell_type": "code",
   "execution_count": 6,
   "id": "38b09bb0-bc4a-479b-84a3-f9307c361a63",
   "metadata": {},
   "outputs": [],
   "source": [
    "#(ii)\n",
    "var2='[DS,ML,Python]'"
   ]
  },
  {
   "cell_type": "code",
   "execution_count": 7,
   "id": "2e2e5d9e-7ed4-4b12-980d-ae758f5ba1fa",
   "metadata": {},
   "outputs": [
    {
     "data": {
      "text/plain": [
       "str"
      ]
     },
     "execution_count": 7,
     "metadata": {},
     "output_type": "execute_result"
    }
   ],
   "source": [
    "type(var2)"
   ]
  },
  {
   "cell_type": "code",
   "execution_count": 8,
   "id": "e96a11d9-5a40-453a-b2ce-035820c2f330",
   "metadata": {},
   "outputs": [],
   "source": [
    "var3=['DS','ML','Python']"
   ]
  },
  {
   "cell_type": "code",
   "execution_count": 9,
   "id": "45f50843-e392-440d-895f-31177e6769b5",
   "metadata": {},
   "outputs": [
    {
     "data": {
      "text/plain": [
       "list"
      ]
     },
     "execution_count": 9,
     "metadata": {},
     "output_type": "execute_result"
    }
   ],
   "source": [
    "type(var3)"
   ]
  },
  {
   "cell_type": "code",
   "execution_count": 10,
   "id": "42f2798a-ae16-47b4-a231-e26ef55ac5c6",
   "metadata": {},
   "outputs": [],
   "source": [
    "var4=1"
   ]
  },
  {
   "cell_type": "code",
   "execution_count": 12,
   "id": "a0016552-bcbe-4394-96a3-baf91a067ba4",
   "metadata": {},
   "outputs": [
    {
     "data": {
      "text/plain": [
       "int"
      ]
     },
     "execution_count": 12,
     "metadata": {},
     "output_type": "execute_result"
    }
   ],
   "source": [
    "type(var4)"
   ]
  },
  {
   "cell_type": "code",
   "execution_count": 13,
   "id": "b4ab1e9a-5f46-45e6-a338-8bd717685c8f",
   "metadata": {},
   "outputs": [],
   "source": [
    "#ques 3\n",
    "# (i)/ = This is division operator which is used for division. Eg- 10/5\n",
    "# (ii)%= This Modulo operator, which returns the remainder of the division. Eg- 5%2\n",
    "# (iii) // = This is floor division operator. It performs division b/w two numbers and return the quotient. Eg- 3//10\n",
    "#(iv) ** = This is used to perform exponentiation(to get power of a Number) Eg- 2**3"
   ]
  },
  {
   "cell_type": "code",
   "execution_count": 14,
   "id": "9c86036a-7714-4467-b669-c6d0c42a1233",
   "metadata": {},
   "outputs": [],
   "source": [
    "b = 10/5\n",
    "c= 5%2\n",
    "d= 3//10\n",
    "e= 2**3"
   ]
  },
  {
   "cell_type": "code",
   "execution_count": 15,
   "id": "4a1347ee-e322-4b16-a49c-5e6ad5603690",
   "metadata": {},
   "outputs": [
    {
     "data": {
      "text/plain": [
       "2.0"
      ]
     },
     "execution_count": 15,
     "metadata": {},
     "output_type": "execute_result"
    }
   ],
   "source": [
    "b"
   ]
  },
  {
   "cell_type": "code",
   "execution_count": 16,
   "id": "7943f597-2798-4d58-bb24-ff16525fe6a7",
   "metadata": {},
   "outputs": [
    {
     "data": {
      "text/plain": [
       "1"
      ]
     },
     "execution_count": 16,
     "metadata": {},
     "output_type": "execute_result"
    }
   ],
   "source": [
    "c"
   ]
  },
  {
   "cell_type": "code",
   "execution_count": 17,
   "id": "b2431f53-31e2-440a-9932-c687b0e0af9b",
   "metadata": {},
   "outputs": [
    {
     "data": {
      "text/plain": [
       "0"
      ]
     },
     "execution_count": 17,
     "metadata": {},
     "output_type": "execute_result"
    }
   ],
   "source": [
    "d"
   ]
  },
  {
   "cell_type": "code",
   "execution_count": 18,
   "id": "66128584-348a-4122-8fc7-204f78d3109b",
   "metadata": {},
   "outputs": [
    {
     "data": {
      "text/plain": [
       "8"
      ]
     },
     "execution_count": 18,
     "metadata": {},
     "output_type": "execute_result"
    }
   ],
   "source": [
    "e"
   ]
  },
  {
   "cell_type": "code",
   "execution_count": 9,
   "id": "cc2f984c-bea1-4bd9-8d9b-3af1dd9248ec",
   "metadata": {},
   "outputs": [
    {
     "name": "stdout",
     "output_type": "stream",
     "text": [
      "nikki <class 'str'>\n",
      "8 <class 'int'>\n",
      "7.0 <class 'float'>\n",
      "True <class 'bool'>\n",
      "9 <class 'int'>\n",
      "0 <class 'int'>\n",
      "4 <class 'int'>\n",
      "pwskills <class 'str'>\n",
      "False <class 'bool'>\n",
      "6778 <class 'int'>\n"
     ]
    }
   ],
   "source": [
    "#ques 4 \n",
    "list = [\"nikki\",8,7.0,True,9,0,4,\"pwskills\",False, 6778]\n",
    "for i in list:\n",
    "    print(i, type(i))\n",
    "    "
   ]
  },
  {
   "cell_type": "code",
   "execution_count": 8,
   "id": "3bdcf5af-7581-4598-8c8e-8f1d6f0b4efe",
   "metadata": {},
   "outputs": [
    {
     "name": "stdout",
     "output_type": "stream",
     "text": [
      "A is NOT divisible by B\n"
     ]
    }
   ],
   "source": [
    "A = int(input(\"enter A\"))\n",
    "B = int(input(\"enter B\"))\n",
    "count = 0\n",
    "while A%B == 0:\n",
    "    A=A//B\n",
    "    count +=1\n",
    "print(\"Number of divisions: "
   ]
  },
  {
   "cell_type": "code",
   "execution_count": 14,
   "id": "e441e6ac-0366-479c-b1db-7ff72ce6c21f",
   "metadata": {},
   "outputs": [
    {
     "name": "stdout",
     "output_type": "stream",
     "text": [
      "2 is not divisible by 3\n",
      "5 is not divisible by 3\n",
      "12 is divisible by 3\n",
      "15 is divisible by 3\n",
      "18 is divisible by 3\n",
      "22 is not divisible by 3\n",
      "30 is divisible by 3\n",
      "33 is divisible by 3\n",
      "35 is not divisible by 3\n",
      "40 is not divisible by 3\n",
      "47 is not divisible by 3\n",
      "50 is not divisible by 3\n",
      "55 is not divisible by 3\n",
      "58 is not divisible by 3\n",
      "60 is divisible by 3\n",
      "65 is not divisible by 3\n",
      "70 is not divisible by 3\n",
      "73 is not divisible by 3\n",
      "75 is divisible by 3\n",
      "80 is not divisible by 3\n",
      "82 is not divisible by 3\n",
      "87 is divisible by 3\n",
      "90 is divisible by 3\n",
      "95 is not divisible by 3\n"
     ]
    }
   ],
   "source": [
    "# ques 6\n",
    "numbers=[2,5,12,15,18,22,30,33,35,40,47,50,55,58,60,65,70,73,75,80,82,87,90,95]\n",
    "for num in numbers:\n",
    "    if num%3==0:\n",
    "        print(f\"{num} is divisible by 3\")\n",
    "    else:\n",
    "        print(F\"{num} is not divisible by 3\")"
   ]
  },
  {
   "cell_type": "code",
   "execution_count": 15,
   "id": "a9b21388-3e62-49bf-8f5d-744fa5ecd9b3",
   "metadata": {},
   "outputs": [],
   "source": [
    "#ques 7\n",
    "\"\"\"1. mutable data type- A mutable data type is one that can be modified after it is created\n",
    "2. immutable data type- An immutable data type, on the other hand, cannot be modified once it is\n",
    "created\"\"\"\n",
    "#examples are given below"
   ]
  },
  {
   "cell_type": "code",
   "execution_count": 16,
   "id": "7e871e52-abb1-491a-977b-002caa18b660",
   "metadata": {},
   "outputs": [],
   "source": [
    "# mutable\n",
    "l=[1,2,3,4]\n",
    "l[2]=\"nikki\""
   ]
  },
  {
   "cell_type": "code",
   "execution_count": 17,
   "id": "be8258a0-aa22-4c1a-aed6-1d76634a5b87",
   "metadata": {},
   "outputs": [
    {
     "data": {
      "text/plain": [
       "[1, 2, 'nikki', 4]"
      ]
     },
     "execution_count": 17,
     "metadata": {},
     "output_type": "execute_result"
    }
   ],
   "source": [
    "l"
   ]
  },
  {
   "cell_type": "code",
   "execution_count": 18,
   "id": "0ac4b54d-8d59-4b0d-9b40-00fb3f586ed8",
   "metadata": {},
   "outputs": [
    {
     "ename": "NameError",
     "evalue": "name 'c' is not defined",
     "output_type": "error",
     "traceback": [
      "\u001b[0;31m---------------------------------------------------------------------------\u001b[0m",
      "\u001b[0;31mNameError\u001b[0m                                 Traceback (most recent call last)",
      "Cell \u001b[0;32mIn[18], line 3\u001b[0m\n\u001b[1;32m      1\u001b[0m \u001b[38;5;66;03m# immutable\u001b[39;00m\n\u001b[1;32m      2\u001b[0m m \u001b[38;5;241m=\u001b[39m \u001b[38;5;124m'\u001b[39m\u001b[38;5;124mpwskills\u001b[39m\u001b[38;5;124m'\u001b[39m\n\u001b[0;32m----> 3\u001b[0m m[\u001b[38;5;241m0\u001b[39m]\u001b[38;5;241m=\u001b[39m \u001b[43mc\u001b[49m\n",
      "\u001b[0;31mNameError\u001b[0m: name 'c' is not defined"
     ]
    }
   ],
   "source": [
    "# immutable\n",
    "m = 'pwskills'\n",
    "m[0]= c"
   ]
  },
  {
   "cell_type": "code",
   "execution_count": null,
   "id": "f87fbef6-e22b-4fcb-b00e-e9359130ea33",
   "metadata": {},
   "outputs": [],
   "source": []
  }
 ],
 "metadata": {
  "kernelspec": {
   "display_name": "Python 3 (ipykernel)",
   "language": "python",
   "name": "python3"
  },
  "language_info": {
   "codemirror_mode": {
    "name": "ipython",
    "version": 3
   },
   "file_extension": ".py",
   "mimetype": "text/x-python",
   "name": "python",
   "nbconvert_exporter": "python",
   "pygments_lexer": "ipython3",
   "version": "3.10.8"
  }
 },
 "nbformat": 4,
 "nbformat_minor": 5
}
